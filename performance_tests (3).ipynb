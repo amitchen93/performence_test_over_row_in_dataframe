{
 "cells": [
  {
   "cell_type": "code",
   "execution_count": 1,
   "id": "23060403",
   "metadata": {},
   "outputs": [],
   "source": [
    "import sys\n",
    "import numpy as np\n",
    "import pandas as pd"
   ]
  },
  {
   "cell_type": "code",
   "execution_count": 2,
   "id": "c1f6ed4b",
   "metadata": {},
   "outputs": [],
   "source": [
    "df = pd.DataFrame({'a': [x for x in range(0,10000000)], 'b': [y for y in range(10000000,20000000)], 'c': [z for z in range(20000000,30000000)]})"
   ]
  },
  {
   "cell_type": "code",
   "execution_count": 3,
   "id": "ecfec080",
   "metadata": {},
   "outputs": [
    {
     "data": {
      "text/html": [
       "<div>\n",
       "<style scoped>\n",
       "    .dataframe tbody tr th:only-of-type {\n",
       "        vertical-align: middle;\n",
       "    }\n",
       "\n",
       "    .dataframe tbody tr th {\n",
       "        vertical-align: top;\n",
       "    }\n",
       "\n",
       "    .dataframe thead th {\n",
       "        text-align: right;\n",
       "    }\n",
       "</style>\n",
       "<table border=\"1\" class=\"dataframe\">\n",
       "  <thead>\n",
       "    <tr style=\"text-align: right;\">\n",
       "      <th></th>\n",
       "      <th>a</th>\n",
       "      <th>b</th>\n",
       "      <th>c</th>\n",
       "    </tr>\n",
       "  </thead>\n",
       "  <tbody>\n",
       "    <tr>\n",
       "      <th>0</th>\n",
       "      <td>0</td>\n",
       "      <td>10000000</td>\n",
       "      <td>20000000</td>\n",
       "    </tr>\n",
       "    <tr>\n",
       "      <th>1</th>\n",
       "      <td>1</td>\n",
       "      <td>10000001</td>\n",
       "      <td>20000001</td>\n",
       "    </tr>\n",
       "    <tr>\n",
       "      <th>2</th>\n",
       "      <td>2</td>\n",
       "      <td>10000002</td>\n",
       "      <td>20000002</td>\n",
       "    </tr>\n",
       "    <tr>\n",
       "      <th>3</th>\n",
       "      <td>3</td>\n",
       "      <td>10000003</td>\n",
       "      <td>20000003</td>\n",
       "    </tr>\n",
       "    <tr>\n",
       "      <th>4</th>\n",
       "      <td>4</td>\n",
       "      <td>10000004</td>\n",
       "      <td>20000004</td>\n",
       "    </tr>\n",
       "  </tbody>\n",
       "</table>\n",
       "</div>"
      ],
      "text/plain": [
       "   a         b         c\n",
       "0  0  10000000  20000000\n",
       "1  1  10000001  20000001\n",
       "2  2  10000002  20000002\n",
       "3  3  10000003  20000003\n",
       "4  4  10000004  20000004"
      ]
     },
     "execution_count": 3,
     "metadata": {},
     "output_type": "execute_result"
    }
   ],
   "source": [
    "df.head()"
   ]
  },
  {
   "cell_type": "markdown",
   "id": "5ecf3406",
   "metadata": {},
   "source": [
    "## memory tests"
   ]
  },
  {
   "cell_type": "code",
   "execution_count": 8,
   "id": "b5957889",
   "metadata": {},
   "outputs": [
    {
     "data": {
      "text/plain": [
       "240.000144"
      ]
     },
     "execution_count": 8,
     "metadata": {},
     "output_type": "execute_result"
    }
   ],
   "source": [
    "sys.getsizeof(df) / 1000000"
   ]
  },
  {
   "cell_type": "code",
   "execution_count": 9,
   "id": "e39c498f",
   "metadata": {},
   "outputs": [
    {
     "data": {
      "text/plain": [
       "0.000128"
      ]
     },
     "execution_count": 9,
     "metadata": {},
     "output_type": "execute_result"
    }
   ],
   "source": [
    "np_df = df.to_numpy()\n",
    "sys.getsizeof(np_df) / 1000000"
   ]
  },
  {
   "cell_type": "code",
   "execution_count": 10,
   "id": "85ffb635",
   "metadata": {},
   "outputs": [
    {
     "data": {
      "text/plain": [
       "89.09516"
      ]
     },
     "execution_count": 10,
     "metadata": {},
     "output_type": "execute_result"
    }
   ],
   "source": [
    "dict_df = df.to_dict('records')\n",
    "sys.getsizeof(dict_df) / 1000000"
   ]
  },
  {
   "cell_type": "code",
   "execution_count": 4,
   "id": "167aad51",
   "metadata": {},
   "outputs": [],
   "source": [
    "from datetime import datetime"
   ]
  },
  {
   "cell_type": "markdown",
   "id": "43dcc6c0",
   "metadata": {},
   "source": [
    "# part1 - multiplication and division"
   ]
  },
  {
   "cell_type": "markdown",
   "id": "cf71d799",
   "metadata": {},
   "source": [
    "## to_numpy - get column by index only"
   ]
  },
  {
   "cell_type": "code",
   "execution_count": 5,
   "id": "43ccf865",
   "metadata": {},
   "outputs": [
    {
     "name": "stdout",
     "output_type": "stream",
     "text": [
      "Iterating with to_numpy took 0:00:57.187218 seconds\n"
     ]
    }
   ],
   "source": [
    "time_1 = datetime.now()\n",
    "for idx, row in enumerate(df.to_numpy()):\n",
    "    df.at[idx, 'f_new'] = (row[0] * row[1] / row[2])\n",
    "time_2 = datetime.now()\n",
    "print(f\"Iterating with to_numpy took {time_2 - time_1} seconds\")"
   ]
  },
  {
   "cell_type": "markdown",
   "id": "6199ee59",
   "metadata": {},
   "source": [
    "## to_numpy - use column index dictionary to get columns by their names"
   ]
  },
  {
   "cell_type": "code",
   "execution_count": 8,
   "id": "c7f253ef",
   "metadata": {},
   "outputs": [
    {
     "data": {
      "text/plain": [
       "{'a': 0, 'b': 1, 'c': 2, 'f_new': 3}"
      ]
     },
     "execution_count": 8,
     "metadata": {},
     "output_type": "execute_result"
    }
   ],
   "source": [
    "cols_index_dict = {col_name: df.columns.get_loc(col_name) for col_name in df.columns}\n",
    "cols_index_dict"
   ]
  },
  {
   "cell_type": "code",
   "execution_count": 9,
   "id": "597395cd",
   "metadata": {},
   "outputs": [
    {
     "data": {
      "text/html": [
       "<div>\n",
       "<style scoped>\n",
       "    .dataframe tbody tr th:only-of-type {\n",
       "        vertical-align: middle;\n",
       "    }\n",
       "\n",
       "    .dataframe tbody tr th {\n",
       "        vertical-align: top;\n",
       "    }\n",
       "\n",
       "    .dataframe thead th {\n",
       "        text-align: right;\n",
       "    }\n",
       "</style>\n",
       "<table border=\"1\" class=\"dataframe\">\n",
       "  <thead>\n",
       "    <tr style=\"text-align: right;\">\n",
       "      <th></th>\n",
       "      <th>a</th>\n",
       "      <th>b</th>\n",
       "      <th>c</th>\n",
       "      <th>f_new</th>\n",
       "    </tr>\n",
       "  </thead>\n",
       "  <tbody>\n",
       "    <tr>\n",
       "      <th>0</th>\n",
       "      <td>0</td>\n",
       "      <td>10000000</td>\n",
       "      <td>20000000</td>\n",
       "      <td>0.0</td>\n",
       "    </tr>\n",
       "    <tr>\n",
       "      <th>1</th>\n",
       "      <td>1</td>\n",
       "      <td>10000001</td>\n",
       "      <td>20000001</td>\n",
       "      <td>0.5</td>\n",
       "    </tr>\n",
       "    <tr>\n",
       "      <th>2</th>\n",
       "      <td>2</td>\n",
       "      <td>10000002</td>\n",
       "      <td>20000002</td>\n",
       "      <td>1.0</td>\n",
       "    </tr>\n",
       "    <tr>\n",
       "      <th>3</th>\n",
       "      <td>3</td>\n",
       "      <td>10000003</td>\n",
       "      <td>20000003</td>\n",
       "      <td>1.5</td>\n",
       "    </tr>\n",
       "    <tr>\n",
       "      <th>4</th>\n",
       "      <td>4</td>\n",
       "      <td>10000004</td>\n",
       "      <td>20000004</td>\n",
       "      <td>2.0</td>\n",
       "    </tr>\n",
       "  </tbody>\n",
       "</table>\n",
       "</div>"
      ],
      "text/plain": [
       "   a         b         c  f_new\n",
       "0  0  10000000  20000000    0.0\n",
       "1  1  10000001  20000001    0.5\n",
       "2  2  10000002  20000002    1.0\n",
       "3  3  10000003  20000003    1.5\n",
       "4  4  10000004  20000004    2.0"
      ]
     },
     "execution_count": 9,
     "metadata": {},
     "output_type": "execute_result"
    }
   ],
   "source": [
    "df.head()"
   ]
  },
  {
   "cell_type": "code",
   "execution_count": 10,
   "id": "f5ee80a9",
   "metadata": {},
   "outputs": [
    {
     "name": "stdout",
     "output_type": "stream",
     "text": [
      "Iterating with to_numpy took 0:00:58.324287 seconds\n"
     ]
    }
   ],
   "source": [
    "time_1 = datetime.now()\n",
    "for idx, row in enumerate(df.to_numpy()):\n",
    "    df.at[idx, 'f_new_1'] = (row[cols_index_dict['a']] * row[cols_index_dict['b']] / row[cols_index_dict['c']])\n",
    "time_2 = datetime.now()\n",
    "print(f\"Iterating with to_numpy took {time_2 - time_1} seconds\")"
   ]
  },
  {
   "cell_type": "code",
   "execution_count": 11,
   "id": "10c9be7b",
   "metadata": {},
   "outputs": [
    {
     "data": {
      "text/html": [
       "<div>\n",
       "<style scoped>\n",
       "    .dataframe tbody tr th:only-of-type {\n",
       "        vertical-align: middle;\n",
       "    }\n",
       "\n",
       "    .dataframe tbody tr th {\n",
       "        vertical-align: top;\n",
       "    }\n",
       "\n",
       "    .dataframe thead th {\n",
       "        text-align: right;\n",
       "    }\n",
       "</style>\n",
       "<table border=\"1\" class=\"dataframe\">\n",
       "  <thead>\n",
       "    <tr style=\"text-align: right;\">\n",
       "      <th></th>\n",
       "      <th>a</th>\n",
       "      <th>b</th>\n",
       "      <th>c</th>\n",
       "      <th>f_new</th>\n",
       "      <th>f_new_1</th>\n",
       "    </tr>\n",
       "  </thead>\n",
       "  <tbody>\n",
       "    <tr>\n",
       "      <th>0</th>\n",
       "      <td>0</td>\n",
       "      <td>10000000</td>\n",
       "      <td>20000000</td>\n",
       "      <td>0.0</td>\n",
       "      <td>0.0</td>\n",
       "    </tr>\n",
       "    <tr>\n",
       "      <th>1</th>\n",
       "      <td>1</td>\n",
       "      <td>10000001</td>\n",
       "      <td>20000001</td>\n",
       "      <td>0.5</td>\n",
       "      <td>0.5</td>\n",
       "    </tr>\n",
       "    <tr>\n",
       "      <th>2</th>\n",
       "      <td>2</td>\n",
       "      <td>10000002</td>\n",
       "      <td>20000002</td>\n",
       "      <td>1.0</td>\n",
       "      <td>1.0</td>\n",
       "    </tr>\n",
       "    <tr>\n",
       "      <th>3</th>\n",
       "      <td>3</td>\n",
       "      <td>10000003</td>\n",
       "      <td>20000003</td>\n",
       "      <td>1.5</td>\n",
       "      <td>1.5</td>\n",
       "    </tr>\n",
       "    <tr>\n",
       "      <th>4</th>\n",
       "      <td>4</td>\n",
       "      <td>10000004</td>\n",
       "      <td>20000004</td>\n",
       "      <td>2.0</td>\n",
       "      <td>2.0</td>\n",
       "    </tr>\n",
       "  </tbody>\n",
       "</table>\n",
       "</div>"
      ],
      "text/plain": [
       "   a         b         c  f_new  f_new_1\n",
       "0  0  10000000  20000000    0.0      0.0\n",
       "1  1  10000001  20000001    0.5      0.5\n",
       "2  2  10000002  20000002    1.0      1.0\n",
       "3  3  10000003  20000003    1.5      1.5\n",
       "4  4  10000004  20000004    2.0      2.0"
      ]
     },
     "execution_count": 11,
     "metadata": {},
     "output_type": "execute_result"
    }
   ],
   "source": [
    "df.head()"
   ]
  },
  {
   "cell_type": "markdown",
   "id": "43523058",
   "metadata": {},
   "source": [
    "## itertuples - get column by index only"
   ]
  },
  {
   "cell_type": "code",
   "execution_count": 8,
   "id": "4fabb9c2",
   "metadata": {},
   "outputs": [
    {
     "name": "stdout",
     "output_type": "stream",
     "text": [
      "Iterating with itertuples took 0:01:03.553333 seconds\n"
     ]
    }
   ],
   "source": [
    "time_1 = datetime.now()\n",
    "for row in df.itertuples(index=True):\n",
    "    df.at[row[0], 'h_new'] = (row[1] * row[2] / row[3])\n",
    "time_2 = datetime.now()\n",
    "print(f\"Iterating with itertuples took {time_2 - time_1} seconds\")"
   ]
  },
  {
   "cell_type": "markdown",
   "id": "882107a3",
   "metadata": {},
   "source": [
    "## to_dict"
   ]
  },
  {
   "cell_type": "code",
   "execution_count": 5,
   "id": "cc3ad138",
   "metadata": {},
   "outputs": [
    {
     "name": "stdout",
     "output_type": "stream",
     "text": [
      "Iterating with to_dict took 0:01:15.927130 seconds\n"
     ]
    }
   ],
   "source": [
    "time_1 = datetime.now()\n",
    "for idx, row in enumerate(df.to_dict('records',)):\n",
    "    df.at[idx, 'd_new'] = (row['a'] * row['b'] / row['c'])\n",
    "time_2 = datetime.now()\n",
    "print(f\"Iterating with to_dict took {time_2 - time_1} seconds\")"
   ]
  },
  {
   "cell_type": "markdown",
   "id": "971d6f68",
   "metadata": {},
   "source": [
    "## to_records - get column by index only"
   ]
  },
  {
   "cell_type": "code",
   "execution_count": 6,
   "id": "efc4c7ce",
   "metadata": {},
   "outputs": [
    {
     "name": "stdout",
     "output_type": "stream",
     "text": [
      "Iterating with to_records took 0:01:38.527920 seconds\n"
     ]
    }
   ],
   "source": [
    "time_1 = datetime.now()\n",
    "for row in df.to_records():\n",
    "    df.at[row[0], 'e_new'] = (row[1] * row[2] / row[3])\n",
    "time_2 = datetime.now()\n",
    "print(f\"Iterating with to_records took {time_2 - time_1} seconds\")"
   ]
  },
  {
   "cell_type": "markdown",
   "id": "717e16d6",
   "metadata": {},
   "source": [
    "## apply"
   ]
  },
  {
   "cell_type": "code",
   "execution_count": 22,
   "id": "3ea9ac33",
   "metadata": {},
   "outputs": [
    {
     "name": "stdout",
     "output_type": "stream",
     "text": [
      "Iterating with apply took 0:01:46.783344 seconds\n"
     ]
    }
   ],
   "source": [
    "time_1 = datetime.now()\n",
    "df['g_new'] = df.apply(lambda row: row['a'] * row['b'] / row['c'], axis=1)\n",
    "time_2 = datetime.now()\n",
    "print(f\"Iterating with apply took {time_2 - time_1} seconds\")"
   ]
  },
  {
   "cell_type": "markdown",
   "id": "d155db64",
   "metadata": {},
   "source": [
    "## iterrows"
   ]
  },
  {
   "cell_type": "code",
   "execution_count": 9,
   "id": "d3b723f2",
   "metadata": {},
   "outputs": [],
   "source": [
    "# time_1 = datetime.now()\n",
    "# for idx, row in df.iterrows():\n",
    "#     df.at[idx, 'i_new'] = (row['a'] * row['b'] / row['c'])\n",
    "# time_2 = datetime.now()\n",
    "# print(f\"Iterating with iterrows took {time_2 - time_1} seconds\")"
   ]
  },
  {
   "cell_type": "markdown",
   "id": "d5bd4de5",
   "metadata": {},
   "source": [
    "## Vectorized"
   ]
  },
  {
   "cell_type": "code",
   "execution_count": 10,
   "id": "84c51bf5",
   "metadata": {},
   "outputs": [
    {
     "name": "stdout",
     "output_type": "stream",
     "text": [
      "Vectorized operation took 0:00:00.086232 seconds\n"
     ]
    }
   ],
   "source": [
    "time_1 = datetime.now()\n",
    "df['j_new'] = df['a'] * df['b'] / df['c']\n",
    "time_2 = datetime.now()\n",
    "print(f\"Vectorized operation took {time_2 - time_1} seconds\")"
   ]
  },
  {
   "cell_type": "markdown",
   "id": "92090a42",
   "metadata": {},
   "source": [
    "# String operations"
   ]
  },
  {
   "cell_type": "code",
   "execution_count": 13,
   "id": "4f72fdab",
   "metadata": {},
   "outputs": [],
   "source": [
    "string_df = pd.DataFrame({'a': ['a' for x in range(0,10000000)], 'b': ['b' for y in range(0,10000000)], 'c': ['c' for z in range(0,10000000)]})"
   ]
  },
  {
   "cell_type": "code",
   "execution_count": 15,
   "id": "54b53ae7",
   "metadata": {},
   "outputs": [
    {
     "name": "stdout",
     "output_type": "stream",
     "text": [
      "Iterating with to_numpy took 0:00:48.804319 seconds\n"
     ]
    }
   ],
   "source": [
    "time_1 = datetime.now()\n",
    "for idx, row in enumerate(string_df.to_numpy()):\n",
    "    string_df.at[idx, 'f_new'] = (row[0] + row[1] + row[2])\n",
    "time_2 = datetime.now()\n",
    "print(f\"Iterating with to_numpy took {time_2 - time_1} seconds\")"
   ]
  },
  {
   "cell_type": "code",
   "execution_count": 20,
   "id": "0ad6a176",
   "metadata": {},
   "outputs": [
    {
     "name": "stdout",
     "output_type": "stream",
     "text": [
      "Iterating with itertuples took 0:00:58.220289 seconds\n"
     ]
    }
   ],
   "source": [
    "time_1 = datetime.now()\n",
    "for row in string_df.itertuples(index=True):\n",
    "    string_df.at[row[0], 'h_new'] = (row[1] + row[2] + row[3])\n",
    "time_2 = datetime.now()\n",
    "print(f\"Iterating with itertuples took {time_2 - time_1} seconds\")"
   ]
  },
  {
   "cell_type": "code",
   "execution_count": 16,
   "id": "6052e356",
   "metadata": {},
   "outputs": [
    {
     "name": "stdout",
     "output_type": "stream",
     "text": [
      "Iterating with to_dict took 0:01:11.325483 seconds\n"
     ]
    }
   ],
   "source": [
    "time_1 = datetime.now()\n",
    "for idx, row in enumerate(string_df.to_dict('records')):\n",
    "    string_df.at[idx, 'd_new'] = (row['a'] + row['b'] + row['c'])\n",
    "time_2 = datetime.now()\n",
    "print(f\"Iterating with to_dict took {time_2 - time_1} seconds\")"
   ]
  },
  {
   "cell_type": "code",
   "execution_count": 18,
   "id": "3a50f4bd",
   "metadata": {},
   "outputs": [
    {
     "name": "stdout",
     "output_type": "stream",
     "text": [
      "Iterating with to_records took 0:01:26.212519 seconds\n"
     ]
    }
   ],
   "source": [
    "time_1 = datetime.now()\n",
    "for row in string_df.to_records():\n",
    "    string_df.at[row[0], 'e_new'] = (row[1] + row[2] + row[3])\n",
    "time_2 = datetime.now()\n",
    "print(f\"Iterating with to_records took {time_2 - time_1} seconds\")"
   ]
  },
  {
   "cell_type": "code",
   "execution_count": 19,
   "id": "f90bf837",
   "metadata": {},
   "outputs": [
    {
     "name": "stdout",
     "output_type": "stream",
     "text": [
      "Iterating with apply took 0:01:40.220461 seconds\n"
     ]
    }
   ],
   "source": [
    "time_1 = datetime.now()\n",
    "string_df['g_new'] = string_df.apply(lambda row: row['a'] + row['b'] + row['c'], axis=1)\n",
    "time_2 = datetime.now()\n",
    "print(f\"Iterating with apply took {time_2 - time_1} seconds\")"
   ]
  },
  {
   "cell_type": "markdown",
   "id": "c8dc2255",
   "metadata": {},
   "source": [
    "# Groupby tests"
   ]
  },
  {
   "cell_type": "code",
   "execution_count": 17,
   "id": "80f65fce",
   "metadata": {},
   "outputs": [],
   "source": [
    "import numpy as np\n",
    "import pandas as pd\n",
    "from datetime import datetime"
   ]
  },
  {
   "cell_type": "code",
   "execution_count": 28,
   "id": "0106adb1",
   "metadata": {},
   "outputs": [],
   "source": [
    "arr = np.array(['a', 'b', 'c'] * 10000000)"
   ]
  },
  {
   "cell_type": "code",
   "execution_count": 29,
   "id": "b12b553f",
   "metadata": {},
   "outputs": [
    {
     "data": {
      "text/plain": [
       "30000000"
      ]
     },
     "execution_count": 29,
     "metadata": {},
     "output_type": "execute_result"
    }
   ],
   "source": [
    "len(arr)"
   ]
  },
  {
   "cell_type": "code",
   "execution_count": 39,
   "id": "34ae3cba",
   "metadata": {},
   "outputs": [],
   "source": [
    "group_df = pd.DataFrame({'str_col': arr, 'a': [x for x in range(30000000)], 'b': [0.5*x for x in range(30000000)],\n",
    "                        'c': [2*x for x in range(30000000)], 'd': [1.5*x for x in range(30000000)],\n",
    "                        'e': [3*x for x in range(30000000)], 'f': [0.8*x for x in range(30000000)],\n",
    "                        'g': [0.5*x for x in range(30000000)], 'h': [2.1*x for x in range(30000000)]})"
   ]
  },
  {
   "cell_type": "code",
   "execution_count": 41,
   "id": "3bd0a522",
   "metadata": {},
   "outputs": [
    {
     "name": "stdout",
     "output_type": "stream",
     "text": [
      "Grouping on one column took 0:00:01.093989 seconds\n"
     ]
    }
   ],
   "source": [
    "time_1 = datetime.now()\n",
    "group_df.groupby('str_col')['b'].sum()\n",
    "time_2 = datetime.now()\n",
    "print(f\"Grouping on one column took {time_2 - time_1} seconds\")"
   ]
  },
  {
   "cell_type": "code",
   "execution_count": 40,
   "id": "36817fb8",
   "metadata": {},
   "outputs": [
    {
     "name": "stdout",
     "output_type": "stream",
     "text": [
      "Grouping on all columns took 0:00:02.215790 seconds\n"
     ]
    }
   ],
   "source": [
    "time_1 = datetime.now()\n",
    "group_df.groupby('str_col').sum()['b']\n",
    "time_2 = datetime.now()\n",
    "print(f\"Grouping on all columns took {time_2 - time_1} seconds\")"
   ]
  },
  {
   "cell_type": "markdown",
   "id": "8f934d65",
   "metadata": {},
   "source": [
    "# MultiProcessing tests"
   ]
  },
  {
   "cell_type": "code",
   "execution_count": 15,
   "id": "dd881af1",
   "metadata": {},
   "outputs": [],
   "source": [
    "import psutil"
   ]
  },
  {
   "cell_type": "code",
   "execution_count": 16,
   "id": "fd6f5cb8",
   "metadata": {},
   "outputs": [
    {
     "data": {
      "text/plain": [
       "6"
      ]
     },
     "execution_count": 16,
     "metadata": {},
     "output_type": "execute_result"
    }
   ],
   "source": [
    "psutil.cpu_count(logical=False)"
   ]
  },
  {
   "cell_type": "code",
   "execution_count": 17,
   "id": "7e7b71fa",
   "metadata": {},
   "outputs": [
    {
     "data": {
      "text/plain": [
       "12"
      ]
     },
     "execution_count": 17,
     "metadata": {},
     "output_type": "execute_result"
    }
   ],
   "source": [
    "psutil.cpu_count(logical=True)"
   ]
  }
 ],
 "metadata": {
  "kernelspec": {
   "display_name": "Python 3 (ipykernel)",
   "language": "python",
   "name": "python3"
  },
  "language_info": {
   "codemirror_mode": {
    "name": "ipython",
    "version": 3
   },
   "file_extension": ".py",
   "mimetype": "text/x-python",
   "name": "python",
   "nbconvert_exporter": "python",
   "pygments_lexer": "ipython3",
   "version": "3.10.3"
  }
 },
 "nbformat": 4,
 "nbformat_minor": 5
}
